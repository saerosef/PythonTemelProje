{
 "cells": [
  {
   "attachments": {},
   "cell_type": "markdown",
   "metadata": {},
   "source": [
    "1- Bir listeyi düzleştiren (flatten) fonksiyon yazın. Elemanları birden çok katmanlı listelerden ([[3],2] gibi) oluşabileceği gibi, non-scalar verilerden de oluşabilir. Örnek olarak:\n",
    "\n",
    "- input: [[1,'a',['cat'],2],[[[3]],'dog'],4,5]\n",
    "\n",
    "- output: [1,'a','cat',2,3,'dog',4,5]"
   ]
  },
  {
   "attachments": {},
   "cell_type": "markdown",
   "metadata": {},
   "source": [
    "-----------------------"
   ]
  },
  {
   "cell_type": "code",
   "execution_count": 8,
   "metadata": {},
   "outputs": [
    {
     "name": "stdout",
     "output_type": "stream",
     "text": [
      "[[1, 'a', ['cat'], 2], [[[3]], 'dog'], 4, 5]\n"
     ]
    }
   ],
   "source": [
    "#Answer 1\n",
    "\n",
    "list1 = [[1,'a',['cat'],2],[[[3]],'dog'],4,5]\n",
    "flatten_list = []\n",
    "def flatten(l):\n",
    "    for sublist in l:\n",
    "        if type(sublist) == list:\n",
    "            flatten(sublist)\n",
    "        else:\n",
    "            flatten_list.append(sublist)\n",
    "    return flatten_list\n",
    "\n",
    "print(flatten(list1))"
   ]
  },
  {
   "attachments": {},
   "cell_type": "markdown",
   "metadata": {},
   "source": [
    "-----------------------------"
   ]
  },
  {
   "attachments": {},
   "cell_type": "markdown",
   "metadata": {},
   "source": [
    "2- Verilen listenin içindeki elemanları tersine döndüren bir fonksiyon yazın. Eğer listenin içindeki elemanlar da liste içeriyorsa\n",
    "onların elemanlarını da tersine döndürün. Örnek olarak:\n",
    "\n",
    "- input: [[1, 2], [3, 4], [5, 6, 7]]\n",
    "\n",
    "- output: [[[7, 6, 5], [4, 3], [2, 1]]"
   ]
  },
  {
   "cell_type": "markdown",
   "metadata": {},
   "source": [
    "--------------------------"
   ]
  },
  {
   "cell_type": "code",
   "execution_count": 9,
   "metadata": {},
   "outputs": [
    {
     "name": "stdout",
     "output_type": "stream",
     "text": [
      "[[5, 6, 7], [3, 4], [1, 2]]\n"
     ]
    }
   ],
   "source": [
    "#Answer 2\n",
    "\n",
    "list2 = [[1, 2], [3, 4], [5, 6, 7]]  \n",
    "\n",
    "def reverse_list(l):\n",
    "    l.reverse()\n",
    "    for sublist in l:\n",
    "        if type(sublist) == list:\n",
    "            reverse_list(sublist)\n",
    "\n",
    "reverse_list(list2)\n",
    "print(list2)"
   ]
  },
  {
   "attachments": {},
   "cell_type": "markdown",
   "metadata": {},
   "source": [
    "-------------------------"
   ]
  },
  {
   "attachments": {},
   "cell_type": "markdown",
   "metadata": {},
   "source": [
    "[Patika.dev](https://www.patika.dev/)"
   ]
  }
 ],
 "metadata": {
  "kernelspec": {
   "display_name": "Python 3",
   "language": "python",
   "name": "python3"
  },
  "language_info": {
   "codemirror_mode": {
    "name": "ipython",
    "version": 3
   },
   "file_extension": ".py",
   "mimetype": "text/x-python",
   "name": "python",
   "nbconvert_exporter": "python",
   "pygments_lexer": "ipython3",
   "version": "3.11.0 (main, Oct 24 2022, 18:26:48) [MSC v.1933 64 bit (AMD64)]"
  },
  "orig_nbformat": 4,
  "vscode": {
   "interpreter": {
    "hash": "178422f0d6df0dae15cfadc94c391a4cdd983baeb9b53ce331127c07e2ee66be"
   }
  }
 },
 "nbformat": 4,
 "nbformat_minor": 2
}
